{
 "cells": [
  {
   "cell_type": "markdown",
   "metadata": {},
   "source": [
    "# Programming Assignment 1: Sparse Linear Regression\n",
    "\n",
    "### Instructor: Yuanyuan Shi\n",
    "\n",
    "### Co-instructors and Teaching Assistants:\n",
    "\n",
    "- Yuexin Bian, [yubian@ucsd.edu]\n",
    "- Luke Bhan, [lbhan@ucsd.edu]\n",
    "- Rich Pai, [cpai@ucsd.edu]\n",
    "- Zekai Zhao, [zez020@ucsd.edu]\n",
    "\n",
    "\n",
    "## Instructions\n",
    "1. This assignment must be completed individually.  \n",
    "2. All solutions should be written in this notebook. Use Markdown cells for explanations, solutions, or analysis.\n",
    "3. Please stick to the skeleton structure to ensure compatibility with grading.\n",
    "4. You may modify the skeleton code for your own learning or organization, but be careful: changes that break required behavior or output format may affect grading.\n",
    "4. Before submitting your .ipynb notebook to Gradescope, ensure that all cells have been run and the outputs are visible."
   ]
  },
  {
   "cell_type": "code",
   "execution_count": 3,
   "metadata": {},
   "outputs": [],
   "source": [
    "import numpy as np\n",
    "import matplotlib.pyplot as plt\n",
    "import scipy\n",
    "from scipy.io.arff import loadarff\n",
    "import pandas as pd\n",
    "from sklearn.model_selection import train_test_split"
   ]
  },
  {
   "cell_type": "markdown",
   "metadata": {},
   "source": [
    "# 2.1 Implement ISTA for Solving LASSO [15 Pts]"
   ]
  },
  {
   "cell_type": "code",
   "execution_count": 4,
   "metadata": {},
   "outputs": [],
   "source": [
    "#TODO: Please write function for ISTA\n",
    "\n",
    "def soft_thresholding(z, tau):\n",
    "    \"\"\"\n",
    "    Apply soft-thresholding to all but the last element (bias term).\n",
    "    Parameters:\n",
    "        z: input vector (weights + bias)\n",
    "        tau: threshold parameter\n",
    "    Returns:\n",
    "        A new vector after soft-thresholding (same shape as z)\n",
    "    \"\"\"\n",
    "    # TODO: Apply soft-thresholding to weights (excluding bias)\n",
    "    # Hint: use np.sign() and np.maximum()\n",
    "    weights = z[:-1]\n",
    "    updated_weights = np.sign(weights) * np.maximum(np.abs(weights) - tau, 0)\n",
    "    \n",
    "    # TODO: Keep the bias term untouched\n",
    "    bias = z[-1]\n",
    "    \n",
    "    return np.concatenate([updated_weights, [bias]])\n",
    "    \n",
    "\n",
    "\n",
    "def ista(X, y, lambd, alpha, w_init, tol=1e-6, return_loss_curve=False):\n",
    "    \"\"\"\n",
    "    Iterative Shrinkage-Thresholding Algorithm (ISTA) for LASSO.\n",
    "    Parameters:\n",
    "        X, y: input data\n",
    "        lambd: regularization parameter\n",
    "        alpha: step size\n",
    "        w_init: initial weights\n",
    "        tol: convergence tolerance\n",
    "        return_loss_curve: whether to return loss over iterations\n",
    "    Returns:\n",
    "        Final weight vector (and optionally loss curve)\n",
    "    \"\"\"\n",
    "    def lasso_loss(w):\n",
    "        res = X @ w - y\n",
    "        return 0.5 * np.sum(res ** 2) + lambd * np.sum(np.abs(w[:-1]))\n",
    "\n",
    "    # Initialize w and track loss\n",
    "    w = w_init.copy()\n",
    "    loss_prev = lasso_loss(w)\n",
    "    \n",
    "    if return_loss_curve:\n",
    "        loss_curve = [loss_prev]\n",
    "\n",
    "    # TODO: implement the ISTA iteration\n",
    "    while True:\n",
    "        # 1. Compute gradient\n",
    "        grad = X.T @ (X @ w - y)\n",
    "        \n",
    "        # 2. Gradient descent step\n",
    "        z = w - alpha * grad\n",
    "\n",
    "        # 3. Apply soft-thresholding (use your soft_thresholding())\n",
    "        w_new = soft_thresholding(z, alpha * lambd)\n",
    "\n",
    "        # 4. Compute new loss\n",
    "        loss_new = lasso_loss(w_new)\n",
    "\n",
    "        if return_loss_curve:   # record loss of this iteration\n",
    "            loss_curve.append(loss_new)\n",
    "        # 5. Check convergence\n",
    "        if np.abs(loss_new - loss_prev) < tol:\n",
    "            break\n",
    "\n",
    "        # 6. Update w and loss_prev\n",
    "        w = w_new\n",
    "        loss_prev = loss_new\n",
    "\n",
    "    if return_loss_curve:\n",
    "        return w_new, loss_curve\n",
    "    else:\n",
    "        return w_new\n"
   ]
  },
  {
   "cell_type": "markdown",
   "metadata": {},
   "source": [
    "# 2.2 Test LASSO Solver on a Synthetic Dataset [20 Pts]\n",
    "## 2.2-1 Generate Synthetic Dataset [5 pts]"
   ]
  },
  {
   "cell_type": "code",
   "execution_count": 5,
   "metadata": {},
   "outputs": [],
   "source": [
    "# TODO: Implement a synthetic dataset for sparse linear regression\n",
    "\n",
    "# Set random seed for reproducibility\n",
    "np.random.seed(0)\n",
    "\n",
    "# TODO: Set parameters\n",
    "N, k, d, sigma = 50, 80, 6, 0.1\n",
    "\n",
    "# TODO: Generate feature matrix X\n",
    "# Hint: First k columns ~ N(0,1); add a bias term (all ones) as the last column\n",
    "# X should be of shape (N, k+1)\n",
    "X = np.hstack([np.random.randn(N, k), np.ones((N, 1))])\n",
    "\n",
    "# TODO: Create ground-truth weights (w*)\n",
    "# First d entries are ±10, the rest are 0; bias term is 0\n",
    "w_star = np.zeros(k)\n",
    "w_star[:d] = 10\n",
    "w0_star = 0\n",
    "w_tilde_star = np.concatenate([w_star, [w0_star]])\n",
    "\n",
    "# TODO: Generate output y with additive Gaussian noise\n",
    "# y = X @ w_tilde_star + epsilon\n",
    "epsilon = sigma * np.random.randn(N)\n",
    "y = X @ w_tilde_star + epsilon\n"
   ]
  },
  {
   "cell_type": "markdown",
   "metadata": {},
   "source": [
    "## 2.2-2 Solve multiple lasso problems on a regularization path [12 pts]"
   ]
  },
  {
   "cell_type": "code",
   "execution_count": 6,
   "metadata": {
    "scrolled": true
   },
   "outputs": [
    {
     "name": "stdout",
     "output_type": "stream",
     "text": [
      "lambdas = [711.713, 355.856, 177.928, 88.964, 44.482, 22.241, 11.121, 5.56, 2.78, 1.39]\n"
     ]
    }
   ],
   "source": [
    "# TODO: Using your ISTA implementation, solve a sequence of LASSO problems with decreasing λ\n",
    "\n",
    "# Compute lambda_max (smallest value that keeps solution at zero)\n",
    "y_bar = np.mean(y)\n",
    "lambda_max = np.linalg.norm(X.T @ (y - y_bar), ord=np.inf)\n",
    "\n",
    "# Generate 10 lambda values, decreasing by ratio of 0.5\n",
    "n_lambdas = 10\n",
    "lambdas = [lambda_max * (0.5 ** i) for i in range(n_lambdas)]\n",
    "print(\"lambdas =\", [round(float(l), 3) for l in lambdas]) # Optional: check your values\n",
    "\n",
    "# TODO: Compute Lipschitz constant and step size alpha\n",
    "# Hint: use ||X||_2^2 (spectral norm squared)\n",
    "L = np.linalg.norm(X, ord=2) ** 2  # TODO\n",
    "alpha = 1 / L  # TODO\n",
    "\n",
    "# Initialize starting point for ISTA\n",
    "w_init = np.zeros(k + 1)\n",
    "\n",
    "# Prepare lists to store results\n",
    "w_solutions = []\n",
    "fitting_losses = []\n",
    "nonzero_counts = []\n",
    "precisions = []\n",
    "recalls = []\n",
    "\n",
    "support_true = np.where(w_star != 0)[0]\n",
    "\n",
    "# --- TODO: Complete the loop below ---\n",
    "for lambd in lambdas:\n",
    "    # TODO: Run ISTA with this lambda and store final w_hat\n",
    "    w_hat = ista(X, y, lambd, alpha, w_init, return_loss_curve=False)  # ← call ista()\n",
    "    # print(loss_curve)\n",
    "    \n",
    "    # TODO: Compute support (nonzero weights, excluding bias)\n",
    "    support_hat = np.where(np.abs(w_hat[:-1]) > 1e-6)[0]\n",
    "    num_correct = len(np.intersect1d(support_true, support_hat))\n",
    "\n",
    "    # TODO: Compute data fitting loss, precision, recall\n",
    "    loss = 0.5 / N * np.linalg.norm((y - X @ w_hat), ord=2) ** 2\n",
    "    precision = num_correct / len(support_hat) if len(support_hat) > 0 else 0\n",
    "    recall = num_correct / len(support_true)\n",
    "\n",
    "    # Store results\n",
    "    w_solutions.append(w_hat.copy())\n",
    "    fitting_losses.append(loss)\n",
    "    nonzero_counts.append(len(support_hat))\n",
    "    precisions.append(precision)\n",
    "    recalls.append(recall)\n",
    "    \n"
   ]
  },
  {
   "cell_type": "code",
   "execution_count": 7,
   "metadata": {},
   "outputs": [
    {
     "name": "stdout",
     "output_type": "stream",
     "text": [
      "         λ    Fitting Loss   # Nonzeros    Precision     Recall\n",
      "-----------------------------------------------------------------\n",
      "  711.7129      315.999526            0        0.000      0.000\n",
      "  355.8564      132.542837            5        1.000      0.833\n",
      "  177.9282       42.167935            6        1.000      1.000\n",
      "   88.9641       10.545972            6        1.000      1.000\n",
      "   44.4821        2.640220            6        1.000      1.000\n",
      "   22.2410        0.663641            6        1.000      1.000\n",
      "   11.1205        0.169422            6        1.000      1.000\n",
      "    5.5603        0.045836            6        1.000      1.000\n",
      "    2.7801        0.014722            8        0.750      1.000\n",
      "    1.3901        0.006395           10        0.600      1.000\n"
     ]
    }
   ],
   "source": [
    "# --- Results Summary (already provided) ---\n",
    "print(f\"{'λ':>10} {'Fitting Loss':>15} {'# Nonzeros':>12} {'Precision':>12} {'Recall':>10}\")\n",
    "print(\"-\" * 65)\n",
    "for i in range(n_lambdas):\n",
    "    print(f\"{lambdas[i]:10.4f} {fitting_losses[i]:15.6f} {nonzero_counts[i]:12d} {precisions[i]:12.3f} {recalls[i]:10.3f}\")"
   ]
  },
  {
   "cell_type": "code",
   "execution_count": 8,
   "metadata": {},
   "outputs": [
    {
     "name": "stdout",
     "output_type": "stream",
     "text": [
      "best lambda among 10 lambdas: 2.7801283630706837\n",
      "corresponding weight: [ 9.93086025  9.95134589  9.91729506  9.95904301  9.96449493  9.9348781\n",
      " -0.         -0.         -0.         -0.        ]\n",
      "ground truth weight: [10. 10. 10. 10. 10. 10.  0.  0.  0.  0.]\n"
     ]
    }
   ],
   "source": [
    "# TODO: Identify the values of lambda that achieve both high recall and high precision, \n",
    "# and among these, select the one that results in the lowest fitting loss. \n",
    "# Display the corresponding weight alongside the ground truth weight\n",
    "high_perc_and_recall = [i for i in range(n_lambdas) # achieve both high recall and high precision\n",
    "                    if precisions[i] > 0.7 and recalls[i] > 0.7]\n",
    "\n",
    "if high_perc_and_recall: # select the one that results in the lowest fitting loss.\n",
    "    best_idx = min(high_perc_and_recall, key=lambda i: fitting_losses[i])\n",
    "    best_lambda = lambdas[best_idx]\n",
    "    best_w_hat = w_solutions[best_idx]\n",
    "    print(\"best lambda among 10 lambdas:\", best_lambda)\n",
    "    print(\"corresponding weight:\", best_w_hat[:10])\n",
    "    print(\"ground truth weight:\", w_tilde_star[:10])"
   ]
  },
  {
   "cell_type": "markdown",
   "metadata": {},
   "source": [
    "## 2.2-3 Generate three plots [3 pts]"
   ]
  },
  {
   "cell_type": "code",
   "execution_count": 9,
   "metadata": {
    "scrolled": true
   },
   "outputs": [
    {
     "data": {
      "image/png": "[encoded data removed]",
      "text/plain": [
       "<Figure size 1800x400 with 3 Axes>"
      ]
     },
     "metadata": {},
     "output_type": "display_data"
    }
   ],
   "source": [
    "# TODO: Plot the following quantities as a function of λ (using log scale for λ):\n",
    "# (a) Data fitting loss\n",
    "# (b) Precision\n",
    "# (c) Recall\n",
    "\n",
    "plt.figure(figsize=(18, 4))\n",
    "\n",
    "plt.subplot(1, 3, 1)\n",
    "# TODO: Plot fitting loss vs. lambda\n",
    "plt.semilogx(lambdas, fitting_losses, 'o-', color='blue')\n",
    "plt.scatter(best_lambda, fitting_losses[best_idx], color='red', s=100)\n",
    "plt.xlabel(\"log scale for λ\")\n",
    "plt.ylabel(\"Fitting Loss\")\n",
    "plt.title(\"Data Fitting Loss vs λ\")\n",
    "\n",
    "plt.subplot(1, 3, 2)\n",
    "# TODO: Plot precision vs. lambda\n",
    "plt.semilogx(lambdas, precisions, 'o-', color='green')\n",
    "plt.scatter(best_lambda, precisions[best_idx], color='red', s=100)\n",
    "plt.xlabel(\"log scale for λ\")\n",
    "plt.ylabel(\"Precision\")\n",
    "plt.title(\"Precision vs λ\")\n",
    "\n",
    "plt.subplot(1, 3, 3)\n",
    "# TODO: Plot recall vs. lambda\n",
    "plt.semilogx(lambdas, recalls, 'o-', color='orange')\n",
    "plt.scatter(best_lambda, recalls[best_idx], color='red', s=100)\n",
    "plt.xlabel(\"log scale for λ\")\n",
    "plt.ylabel(\"Recall\")\n",
    "plt.title(\"Recall vs λ\")\n",
    "\n",
    "plt.tight_layout()\n",
    "plt.show()\n"
   ]
  },
  {
   "cell_type": "markdown",
   "metadata": {},
   "source": [
    "# 2.3 Solve a Real-world Problem: Water Quality Prediction [30 Pts]\n",
    "## 2.3.1. Data Loading and Preprocessing [10 pts]"
   ]
  },
  {
   "cell_type": "code",
   "execution_count": 10,
   "metadata": {},
   "outputs": [],
   "source": [
    "def prepare_dataset(X_train_raw, X_test_raw, y_train_raw, y_test_raw, loc=0):\n",
    "    \"\"\"\n",
    "    Prepares a dataset where each input is a flattened 37x11 matrix (all locations & features),\n",
    "    and the target is the pH at a specific location (default: loc=0).\n",
    "    \n",
    "    Returns:\n",
    "        - X_train, X_val, X_test\n",
    "        - y_train, y_val, y_test\n",
    "        - X_train_full, y_train_full\n",
    "    \"\"\"\n",
    "    \n",
    "    # TODO: Extract dimensions of each feature matrix\n",
    "    num_locations, num_features = 37, 11  # should be 37, 11\n",
    "    num_train_full = X_train_raw.shape[1]\n",
    "    num_test = X_test_raw.shape[1]\n",
    "\n",
    "    # TODO: Allocate space for flattened feature matrices\n",
    "    X_train_full = np.zeros((num_train_full, num_locations * num_features))\n",
    "    X_test = np.zeros((num_test, num_locations * num_features))\n",
    "\n",
    "    # TODO: Flatten each 37x11 matrix at each timestep into a 1D feature vector\n",
    "    for i in range(num_train_full):\n",
    "        X_train_full[i, :] = X_train_raw[0][i].flatten()\n",
    "    for i in range(num_test):\n",
    "        X_test[i, :] = X_test_raw[0][i].flatten()\n",
    "\n",
    "    # TODO: Extract pH target at location `loc`\n",
    "    y_train_full = y_train_raw[loc, :].T\n",
    "    y_test = y_test_raw[loc, :].T\n",
    "\n",
    "    # TODO: Split training data into train and validation sets (80/20 split)\n",
    "    X_train, X_val, y_train, y_val = train_test_split(\n",
    "        X_train_full, y_train_full, test_size=0.2, random_state=0\n",
    "    )\n",
    "\n",
    "    return X_train, X_val, X_test, y_train, y_val, y_test, X_train_full, y_train_full"
   ]
  },
  {
   "cell_type": "code",
   "execution_count": 11,
   "metadata": {},
   "outputs": [],
   "source": [
    "# Load data\n",
    "data_file = \"water_dataset.mat\"\n",
    "data = scipy.io.loadmat(data_file)\n",
    "\n",
    "X_train_raw, X_test_raw = data['X_tr'], data['X_te']\n",
    "y_train_raw, y_test_raw = data['Y_tr'], data['Y_te']\n",
    "\n",
    "# Preprocess Dataset. This flattens spatial features and extracts target pH at loc=0\n",
    "(\n",
    "    X_train, X_val, X_test,\n",
    "    y_train, y_val, y_test,\n",
    "    X_train_full, y_train_full\n",
    ") = prepare_dataset(X_train_raw, X_test_raw, y_train_raw, y_test_raw, loc=0)"
   ]
  },
  {
   "cell_type": "code",
   "execution_count": 12,
   "metadata": {},
   "outputs": [
    {
     "name": "stdout",
     "output_type": "stream",
     "text": [
      "X_train: (338, 407)\n",
      "X_val: (85, 407)\n",
      "X_test: (282, 407)\n",
      "X_train_full: (423, 407)\n",
      "y_train: (338,)\n",
      "y_val: (85,)\n",
      "y_test: (282,)\n",
      "y_train_full: (423,)\n"
     ]
    }
   ],
   "source": [
    "# Print shape summary for sanity check\n",
    "print(\"X_train:\", X_train.shape)\n",
    "print(\"X_val:\", X_val.shape)\n",
    "print(\"X_test:\", X_test.shape)\n",
    "print(\"X_train_full:\", X_train_full.shape)\n",
    "print(\"y_train:\", y_train.shape)\n",
    "print(\"y_val:\", y_val.shape)\n",
    "print(\"y_test:\", y_test.shape)\n",
    "print(\"y_train_full:\", y_train_full.shape)"
   ]
  },
  {
   "cell_type": "code",
   "execution_count": 13,
   "metadata": {},
   "outputs": [
    {
     "name": "stdout",
     "output_type": "stream",
     "text": [
      "List of 11 features:\n",
      "1. Specific conductance, water, unfiltered, microsiemens per centimeter at 25 degrees Celsius (Maximum)\n",
      "2. pH, water, unfiltered, field, standard units (Maximum)\n",
      "3. pH, water, unfiltered, field, standard units (Minimum)\n",
      "4. Specific conductance, water, unfiltered, microsiemens per centimeter at 25 degrees Celsius (Minimum)\n",
      "5. Specific conductance, water, unfiltered, microsiemens per centimeter at 25 degrees Celsius (Mean)\n",
      "6. Dissolved oxygen, water, unfiltered, milligrams per liter (Maximum)\n",
      "7. Dissolved oxygen, water, unfiltered, milligrams per liter (Mean)\n",
      "8. Dissolved oxygen, water, unfiltered, milligrams per liter (Minimum)\n",
      "9. Temperature, water, degrees Celsius (Mean)\n",
      "10. Temperature, water, degrees Celsius (Minimum)\n",
      "11. Temperature, water, degrees Celsius (Maximum)\n"
     ]
    }
   ],
   "source": [
    "# Access the 'features' field\n",
    "features = data['features']  # shape: (1, 11)\n",
    "\n",
    "# Convert from nested MATLAB string format to Python list\n",
    "feature_names = [str(f[0]) for f in features[0]]\n",
    "\n",
    "# Print the feature list\n",
    "print(\"List of 11 features:\")\n",
    "for i, name in enumerate(feature_names):\n",
    "    print(f\"{i+1}. {name}\")"
   ]
  },
  {
   "cell_type": "code",
   "execution_count": 14,
   "metadata": {},
   "outputs": [],
   "source": [
    "def add_bias_column(X):\n",
    "    return np.hstack([X, np.ones((X.shape[0], 1))])\n",
    "\n",
    "# Add Bias Column (Augmented version of X\n",
    "X_train_aug = add_bias_column(X_train)\n",
    "X_val_aug = add_bias_column(X_val)\n",
    "X_test_aug = add_bias_column(X_test)\n",
    "X_train_full_aug = add_bias_column(X_train_full)\n",
    "\n",
    "# Flatten targets for use in numpy ops\n",
    "y_train = y_train.flatten()\n",
    "y_val = y_val.flatten()\n",
    "y_test = y_test.flatten()\n",
    "y_train_full = y_train_full.flatten()"
   ]
  },
  {
   "cell_type": "markdown",
   "metadata": {},
   "source": [
    "## 2.3.2 Training, Model Selection, and Testing [20 Pts]\n",
    "### 2.3.2-1 Train with multiple $\\lambda$ [5 pts]"
   ]
  },
  {
   "cell_type": "code",
   "execution_count": 15,
   "metadata": {},
   "outputs": [],
   "source": [
    "def compute_rmse(y, ypred):\n",
    "    return np.sqrt(np.mean((y - ypred) ** 2))"
   ]
  },
  {
   "cell_type": "code",
   "execution_count": 16,
   "metadata": {
    "scrolled": true
   },
   "outputs": [
    {
     "name": "stdout",
     "output_type": "stream",
     "text": [
      "λ values: [0.219, 0.11, 0.055, 0.027, 0.014]\n"
     ]
    }
   ],
   "source": [
    "# === LASSO Validation Experiment ===\n",
    "\n",
    "# Define lambda values (geometric decay)\n",
    "lambda_max = np.linalg.norm(X_train_aug.T @ (y_train - np.mean(y_train)), ord=np.inf) / 2\n",
    "n_lambdas = 5\n",
    "lambdas = [lambda_max * (0.5 ** i) for i in range(n_lambdas)]\n",
    "print(\"λ values:\", [round(float(l), 3) for l in lambdas])\n",
    "\n",
    "# Step size for ISTA\n",
    "alpha = 1.0 / np.linalg.norm(X_train_aug, ord=2) ** 2\n",
    "\n",
    "# Initialize\n",
    "val_rmses = []\n",
    "train_rmses = []\n",
    "nonzero_counts = []\n",
    "solutions = []\n",
    "\n",
    "w_init = np.zeros(X_train_aug.shape[1])  # initial point\n",
    "\n",
    "# TODO: Loop over each lambda and compute Lasso solution and metrics\n",
    "for lam in lambdas:\n",
    "    # TODO: Run ISTA with current λ (warm start from previous w_init)\n",
    "    w_hat, loss_curve = ista(X_train_full_aug, y_train_full, lam, alpha, w_init, return_loss_curve=True)  # ← call ista()\n",
    "\n",
    "    # TODO: Update w_init for warm start\n",
    "    w_init = w_hat\n",
    "\n",
    "    # TODO: Predict and compute RMSE on train and validation\n",
    "    y_train_pred = X_train_aug @ w_hat\n",
    "    rmse_train = np.sqrt(np.mean((y_train - y_train_pred)**2))\n",
    "\n",
    "    y_val_pred = X_val_aug @ w_hat\n",
    "    rmse_val = np.sqrt(np.mean((y_val - y_val_pred)**2))\n",
    "\n",
    "    # TODO: Count number of nonzero weights (exclude bias)\n",
    "    nnz = np.sum(np.abs(w_hat[:-1]) > 1e-5)\n",
    "\n",
    "    # Store results\n",
    "    train_rmses.append(rmse_train)\n",
    "    val_rmses.append(rmse_val)\n",
    "    nonzero_counts.append(nnz)\n",
    "    solutions.append(w_hat)\n",
    "    # print(loss_curve)\n"
   ]
  },
  {
   "cell_type": "code",
   "execution_count": 17,
   "metadata": {
    "scrolled": true
   },
   "outputs": [
    {
     "data": {
      "image/png": "[encoded data removed]",
      "text/plain": [
       "<Figure size 1200x400 with 2 Axes>"
      ]
     },
     "metadata": {},
     "output_type": "display_data"
    }
   ],
   "source": [
    "# TODO: Generate two plots: validation RMSE vs. lambda and sparsity vs. lambda\n",
    "\n",
    "plt.figure(figsize=(12, 4))  # Adjust size as needed\n",
    "\n",
    "# ----- Subplot 1: Validation RMSE -----\n",
    "plt.subplot(1, 2, 1)\n",
    "plt.semilogx(lambdas, val_rmses, 'o-', color='green')\n",
    "plt.xlabel(\"log scale for λ\")\n",
    "plt.ylabel(\"Validation RMSE\")\n",
    "plt.title(\"Validation RMSE vs λ\")\n",
    "\n",
    "# ----- Subplot 2: Sparsity -----\n",
    "plt.subplot(1, 2, 2)\n",
    "plt.semilogx(lambdas, nonzero_counts, 'o-', color='red')\n",
    "plt.xlabel(\"log scale for λ\")\n",
    "plt.ylabel(\"Number of Nonzero Weights\")\n",
    "plt.title(\"Model Sparsity vs λ\")\n",
    "plt.tight_layout()\n",
    "plt.show()\n",
    "\n"
   ]
  },
  {
   "cell_type": "markdown",
   "metadata": {},
   "source": [
    "### 2.3.2-2 Select two candidate $\\lambda$ values [5 pts]"
   ]
  },
  {
   "cell_type": "code",
   "execution_count": 18,
   "metadata": {
    "scrolled": true
   },
   "outputs": [],
   "source": [
    "def select_lambda_candidates(lambdas, val_rmses, nonzero_counts, rmse_tol=0.1):\n",
    "    \"\"\"\n",
    "    Select lambda values based on two criteria:\n",
    "    Option A: lowest validation RMSE\n",
    "    Option B: sparsest model\n",
    "\n",
    "    Returns:\n",
    "        lambda_A, lambda_B, index_A, index_B\n",
    "    \"\"\"\n",
    "\n",
    "    # TODO: Option A — λ with the lowest validation RMSE\n",
    "    idx_A = np.argmin(val_rmses)  # ← use np.argmin\n",
    "    lambda_A = lambdas[idx_A]\n",
    "    best_rmse = val_rmses[idx_A]\n",
    "\n",
    "    # TODO: Option B — λ with the fewest nonzero weights (most sparse)\n",
    "    idx_B = np.argmin(nnz)\n",
    "    lambda_B = lambdas[idx_B]\n",
    "\n",
    "    # Print summary of both options\n",
    "    print(\"Option A (lowest RMSE):\")\n",
    "    print(f\"  λ = {lambda_A:.4f}, RMSE = {val_rmses[idx_A]:.4f}, Nonzeros = {nonzero_counts[idx_A]}\")\n",
    "    print(\"Option B (most sparse):\")\n",
    "    print(f\"  λ = {lambda_B:.4f}, RMSE = {val_rmses[idx_B]:.4f}, Nonzeros = {nonzero_counts[idx_B]}\")\n",
    "\n",
    "    return lambda_A, lambda_B, idx_A, idx_B\n"
   ]
  },
  {
   "cell_type": "code",
   "execution_count": 19,
   "metadata": {},
   "outputs": [
    {
     "name": "stdout",
     "output_type": "stream",
     "text": [
      "Option A (lowest RMSE):\n",
      "  λ = 0.0137, RMSE = 0.0095, Nonzeros = 168\n",
      "Option B (most sparse):\n",
      "  λ = 0.2194, RMSE = 0.0108, Nonzeros = 24\n"
     ]
    }
   ],
   "source": [
    "lambda_A, lambda_B, idx_A, idx_B = select_lambda_candidates(\n",
    "    lambdas=lambdas,\n",
    "    val_rmses=val_rmses,\n",
    "    nonzero_counts=nonzero_counts\n",
    ")"
   ]
  },
  {
   "cell_type": "markdown",
   "metadata": {},
   "source": [
    "### 2.3.2-3 Retrain on the full training set [5 pts]"
   ]
  },
  {
   "cell_type": "code",
   "execution_count": 20,
   "metadata": {},
   "outputs": [],
   "source": [
    "def compute_lasso_components(X, y, w, lambd):\n",
    "    \"\"\"\n",
    "    Compute different components of the LASSO objective.\n",
    "    \"\"\"\n",
    "    N = len(y)\n",
    "    y_pred = X @ w\n",
    "    res = y - y_pred\n",
    "    data_fitting_loss = 0.5 / N * np.sum(res ** 2)\n",
    "    l1_penalty = lambd * np.sum(np.abs(w[:-1]))  # exclude bias\n",
    "    total_loss = data_fitting_loss + l1_penalty\n",
    "    num_nonzero = np.sum(np.abs(w[:-1]) > 1e-6)  # count nonzero weights only (ignore bias)\n",
    "    return data_fitting_loss, l1_penalty, total_loss, num_nonzero\n"
   ]
  },
  {
   "cell_type": "code",
   "execution_count": 21,
   "metadata": {},
   "outputs": [],
   "source": [
    "# Full training set\n",
    "X_full = X_train_full_aug\n",
    "y_full = y_train_full\n",
    "\n",
    "# Step size and init\n",
    "alpha = 1 / (np.linalg.norm(X_full, 2) ** 2)\n",
    "w_init = np.zeros(X_full.shape[1])\n",
    "\n",
    "# TODO: Retrain at lambda_A using ISTA\n",
    "w_A, loss_curve_A = ista(X_train_full_aug, y_train_full, lambda_A, alpha, w_init, return_loss_curve=True)  # ← call ista()\n",
    "fit_A, reg_A, total_A, nnz_A = compute_lasso_components(X_full, y_full, w_A, lambda_A)\n",
    "# TODO: Retrain at lambda_B using ISTA\n",
    "w_B, loss_curve_B = ista(X_train_full_aug, y_train_full, lambda_B, alpha, w_init, return_loss_curve=True)  # ← call ista()\n",
    "fit_B, reg_B, total_B, nnz_B = compute_lasso_components(X_full, y_full, w_B, lambda_B)\n"
   ]
  },
  {
   "cell_type": "code",
   "execution_count": 22,
   "metadata": {},
   "outputs": [
    {
     "name": "stdout",
     "output_type": "stream",
     "text": [
      "Model                         λ      Data Fit Loss      L1 Penalty      Total Loss   # Nonzeros\n",
      "-----------------------------------------------------------------------------------------------\n",
      "λ_A (Best RMSE)          0.0137           0.000044        0.013934        0.013979          267\n",
      "λ_B (Sparsest)           0.2194           0.000046        0.113295        0.113341           38\n"
     ]
    }
   ],
   "source": [
    "# Print summary table for retrained models\n",
    "models = {\n",
    "    'λ_A (Best RMSE)': (lambda_A, w_A),\n",
    "    'λ_B (Sparsest)': (lambda_B, w_B)\n",
    "}\n",
    "\n",
    "print(f\"{'Model':<20} {'λ':>10} {'Data Fit Loss':>18} {'L1 Penalty':>15} {'Total Loss':>15} {'# Nonzeros':>12}\")\n",
    "print(\"-\" * 95)\n",
    "\n",
    "for label, (lam, w_hat) in models.items():\n",
    "    fit_loss, l1_penalty, total_loss, nnz = compute_lasso_components(X_train_full_aug, y_train_full, w_hat, lam)\n",
    "    print(f\"{label:<20} {lam:10.4f} {fit_loss:18.6f} {l1_penalty:15.6f} {total_loss:15.6f} {nnz:12d}\")\n"
   ]
  },
  {
   "cell_type": "markdown",
   "metadata": {},
   "source": [
    "### 2.3.2-4 Plot training curves [2 pts]"
   ]
  },
  {
   "cell_type": "code",
   "execution_count": 23,
   "metadata": {},
   "outputs": [
    {
     "data": {
      "image/png": "[encoded data removed]",
      "text/plain": [
       "<Figure size 640x480 with 1 Axes>"
      ]
     },
     "metadata": {},
     "output_type": "display_data"
    }
   ],
   "source": [
    "# Plot training convergence curves\n",
    "plt.figure()\n",
    "plt.semilogy(loss_curve_A, label=f\"λ={lambda_A:.3f} (Best RMSE)\")\n",
    "plt.semilogy(loss_curve_B, label=f\"λ={lambda_B:.3f} (Sparsest)\")\n",
    "plt.xlabel(\"Iteration\")\n",
    "plt.xlim(0, 10000)\n",
    "plt.ylabel(\"Total LASSO Loss\")\n",
    "plt.ylim(1e-2,1)\n",
    "plt.title(\"Training Convergence\")\n",
    "plt.legend()\n",
    "plt.show()\n"
   ]
  },
  {
   "cell_type": "markdown",
   "metadata": {},
   "source": [
    "### 2.3.2-5 Evaluate on test data [3 pts]"
   ]
  },
  {
   "cell_type": "code",
   "execution_count": 24,
   "metadata": {
    "scrolled": true
   },
   "outputs": [
    {
     "name": "stdout",
     "output_type": "stream",
     "text": [
      "Test RMSE (Option A - Best RMSE): 0.0112\n",
      "Test RMSE (Option B - Sparsest): 0.0098\n",
      "Option B - Most sparse weight is better to unseen data\n"
     ]
    }
   ],
   "source": [
    "# TODO: Use your retrained models w_A and w_B to predict on the test set\n",
    "# Hint: Use the test feature matrix X_test_aug (with bias column)\n",
    "\n",
    "# TODO: Predict\n",
    "y_test_pred_A = X_test_aug @ w_A\n",
    "y_test_pred_B = X_test_aug @ w_B\n",
    "\n",
    "# TODO: Compute RMSE on the test set\n",
    "test_rmse_A = np.sqrt(np.mean((y_test - y_test_pred_A)**2))\n",
    "test_rmse_B = np.sqrt(np.mean((y_test - y_test_pred_B)**2))\n",
    "\n",
    "print(f\"Test RMSE (Option A - Best RMSE): {test_rmse_A:.4f}\")\n",
    "print(f\"Test RMSE (Option B - Sparsest): {test_rmse_B:.4f}\")\n",
    "\n",
    "\n",
    "# TODO: Discuss which model generalizes better to unseen data\n",
    "if test_rmse_A < test_rmse_B:\n",
    "    print(\"Option A - Lowest validation RMSE is better to unseen data\")\n",
    "elif test_rmse_A > test_rmse_B:\n",
    "    print(\"Option B - Most sparse weight is better to unseen data\")\n",
    "else:\n",
    "    print(\"The performance of option A and option B are the same.\")\n"
   ]
  }
 ],
 "metadata": {
  "kernelspec": {
   "display_name": "Python 3",
   "language": "python",
   "name": "python3"
  },
  "language_info": {
   "codemirror_mode": {
    "name": "ipython",
    "version": 3
   },
   "file_extension": ".py",
   "mimetype": "text/x-python",
   "name": "python",
   "nbconvert_exporter": "python",
   "pygments_lexer": "ipython3",
   "version": "3.10.0"
  }
 },
 "nbformat": 4,
 "nbformat_minor": 4
}
